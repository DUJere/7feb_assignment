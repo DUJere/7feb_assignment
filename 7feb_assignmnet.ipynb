{
 "cells": [
  {
   "cell_type": "markdown",
   "id": "237036e8-38ed-4431-b91f-5befa314d494",
   "metadata": {},
   "source": [
    "Q1. You are writing code for a company. The requirement of the company is that you create a python\n",
    "function that will check whether the password entered by the user is correct or not. The function should\n",
    "take the password as input and return the string “Valid Password” if the entered password follows the\n",
    "below-given password guidelines else it should return “Invalid Password”.\n",
    "\n",
    "\n",
    "Note: 1. The Password should contain at least two uppercase letters and at least two lowercase letters.\n",
    "\n",
    "2. The Password should contain at least a number and three special characters.\n",
    "\n",
    "3. The length of the password should be 10 characters long."
   ]
  },
  {
   "cell_type": "code",
   "execution_count": 4,
   "id": "8cbeda9c-aa5d-453a-a97d-11ff0f7573d3",
   "metadata": {},
   "outputs": [
    {
     "name": "stdin",
     "output_type": "stream",
     "text": [
      "Enter password =  SamSUng@5297_ui!\n"
     ]
    },
    {
     "name": "stdout",
     "output_type": "stream",
     "text": [
      "Valid password\n"
     ]
    }
   ],
   "source": [
    "password = input(\"Enter password = \")\n",
    "\n",
    "u,l,n,c = 0,0,0,0\n",
    "\n",
    "s = [\"!\",\"@\",\"#\",\"$\",\"%\",\"^\",\"&\",\"*\",\"(\",\")\",\"_\"]\n",
    "\n",
    "if (len(password) >= 10) :\n",
    "    \n",
    "    for i in password :\n",
    "        if i.islower() :\n",
    "            l = l + 1\n",
    "        \n",
    "        elif i.isupper() :\n",
    "            u = u + 1\n",
    "            \n",
    "        elif i.isdigit() :\n",
    "            n = n + 1 \n",
    "        \n",
    "        elif i in s :\n",
    "            c = c + 1\n",
    "            \n",
    "if (u>=2 and l>= 2 and n>=1 and c>=3 and u+l+n+c >= 10) :\n",
    "    \n",
    "    print(\"Valid password\")\n",
    "    \n",
    "else :\n",
    "    \n",
    "    print(\"Invalid password\")"
   ]
  },
  {
   "cell_type": "markdown",
   "id": "9114cc6f-bf32-4272-81bd-68a064365f89",
   "metadata": {},
   "source": [
    "Q2.1. Check if the string starts with a particular letter."
   ]
  },
  {
   "cell_type": "code",
   "execution_count": 6,
   "id": "749f8eda-aa03-4b01-a994-854556b83888",
   "metadata": {},
   "outputs": [
    {
     "name": "stdin",
     "output_type": "stream",
     "text": [
      "Enter string :  An\n"
     ]
    },
    {
     "name": "stdout",
     "output_type": "stream",
     "text": [
      "True\n"
     ]
    }
   ],
   "source": [
    "string = input(\"Enter string : \")\n",
    "\n",
    "check = (lambda x : x[0] == \"A\" or x[0] == \"a\")\n",
    "\n",
    "print (check(string))"
   ]
  },
  {
   "cell_type": "markdown",
   "id": "1dd5a5bb-b813-463d-8400-4d21f7d753f6",
   "metadata": {},
   "source": [
    "Q2.2. Check if the string is numeric"
   ]
  },
  {
   "cell_type": "code",
   "execution_count": 8,
   "id": "44cd52f1-5bc0-4f1d-9a73-31df16adb827",
   "metadata": {},
   "outputs": [
    {
     "name": "stdin",
     "output_type": "stream",
     "text": [
      "Enter string :  48522453\n"
     ]
    },
    {
     "name": "stdout",
     "output_type": "stream",
     "text": [
      "True\n"
     ]
    }
   ],
   "source": [
    "s = input(\"Enter string : \")\n",
    "\n",
    "numeric = (lambda x : x.isnumeric())\n",
    "\n",
    "print (numeric(s))"
   ]
  },
  {
   "cell_type": "markdown",
   "id": "d9574c4d-c18b-45cf-9711-e4f276b1bdd1",
   "metadata": {},
   "source": [
    "Q2.3. Sort a list of tuples having fruit names and their quantity. [(\"mango\",99),(\"orange\",80), (\"grapes\", 1000)]"
   ]
  },
  {
   "cell_type": "code",
   "execution_count": 8,
   "id": "7419a259-53b1-4c13-883a-7b8ae3faeb5c",
   "metadata": {},
   "outputs": [],
   "source": [
    "l1 = [(\"mango\",99),(\"orange\",80), (\"grapes\", 1000)]"
   ]
  },
  {
   "cell_type": "code",
   "execution_count": 13,
   "id": "bf7e1476-e095-4e16-9de5-81a9b00d8024",
   "metadata": {},
   "outputs": [
    {
     "name": "stdout",
     "output_type": "stream",
     "text": [
      "[('grapes', 1000), ('mango', 99), ('orange', 80)]\n",
      "[('orange', 80), ('mango', 99), ('grapes', 1000)]\n"
     ]
    }
   ],
   "source": [
    "## sorting by fruit names\n",
    "\n",
    "name_sort = sorted(l1,key = lambda x : x[0], reverse = False)\n",
    "\n",
    "## sorting by fruit quantity\n",
    "\n",
    "quantity_sort = sorted(l1, key = lambda x : x[1], reverse = False)\n",
    "\n",
    "print(name_sort)\n",
    "\n",
    "print(quantity_sort)"
   ]
  },
  {
   "cell_type": "markdown",
   "id": "702fab25-31c9-413b-acd3-3ab5cc59f5df",
   "metadata": {},
   "source": [
    "Q2.4. Find the squares of numbers from 1 to 10."
   ]
  },
  {
   "cell_type": "code",
   "execution_count": 14,
   "id": "832471c8-deb5-47d1-a90e-2beb10c6dbe2",
   "metadata": {},
   "outputs": [
    {
     "data": {
      "text/plain": [
       "[1, 4, 9, 16, 25, 36, 49, 64, 81, 100]"
      ]
     },
     "execution_count": 14,
     "metadata": {},
     "output_type": "execute_result"
    }
   ],
   "source": [
    "l2 = list(range(1,11))\n",
    "\n",
    "square = list(map(lambda x : x**2,l2))\n",
    "\n",
    "square"
   ]
  },
  {
   "cell_type": "markdown",
   "id": "0d8e36a1-cd56-4f3b-9cea-463872018962",
   "metadata": {},
   "source": [
    "Q2.5.  Find the cube root of numbers from 1 to 10."
   ]
  },
  {
   "cell_type": "code",
   "execution_count": 15,
   "id": "ca1d19c6-7462-484a-b656-f9f49d7f7e50",
   "metadata": {},
   "outputs": [
    {
     "data": {
      "text/plain": [
       "[1.0,\n",
       " 1.2599210498948732,\n",
       " 1.4422495703074083,\n",
       " 1.5874010519681994,\n",
       " 1.7099759466766968,\n",
       " 1.8171205928321397,\n",
       " 1.912931182772389,\n",
       " 2.0,\n",
       " 2.080083823051904,\n",
       " 2.154434690031884]"
      ]
     },
     "execution_count": 15,
     "metadata": {},
     "output_type": "execute_result"
    }
   ],
   "source": [
    "l3 = list(range(1,11))\n",
    "\n",
    "cube_root = list(map(lambda x : x ** (1/3),l3))\n",
    "\n",
    "cube_root"
   ]
  },
  {
   "cell_type": "markdown",
   "id": "7cd41865-6efe-44ae-a7e0-9691e034cf88",
   "metadata": {},
   "source": [
    "Q2.6. Check if a given number is even."
   ]
  },
  {
   "cell_type": "code",
   "execution_count": 9,
   "id": "978a8724-4660-4b27-9ba1-3e4ce30fcbe3",
   "metadata": {},
   "outputs": [
    {
     "name": "stdin",
     "output_type": "stream",
     "text": [
      "Give number :  24\n"
     ]
    },
    {
     "data": {
      "text/plain": [
       "'Even number'"
      ]
     },
     "execution_count": 9,
     "metadata": {},
     "output_type": "execute_result"
    }
   ],
   "source": [
    "n = int(input(\"Give number : \"))\n",
    "\n",
    "even_num = lambda a : \"Even number\" if a % 2 == 0 else \"Odd number\"\n",
    "\n",
    "even_num(n)"
   ]
  },
  {
   "cell_type": "markdown",
   "id": "f82daa5a-3f64-4399-855d-9fb4fe6bfc07",
   "metadata": {},
   "source": [
    " Q2.7. Filter odd numbers from the given list."
   ]
  },
  {
   "cell_type": "code",
   "execution_count": 12,
   "id": "79ee2e98-651f-49f5-a785-e0aba254b53a",
   "metadata": {},
   "outputs": [
    {
     "data": {
      "text/plain": [
       "[1, 3, 5, 7, 9]"
      ]
     },
     "execution_count": 12,
     "metadata": {},
     "output_type": "execute_result"
    }
   ],
   "source": [
    "l5 = [1,2,3,4,5,6,7,8,9,10]\n",
    "\n",
    "odd_num = list(filter(lambda x : x%2 == 1,l5))\n",
    "\n",
    "odd_num"
   ]
  },
  {
   "cell_type": "markdown",
   "id": "318245e8-167f-46ba-95d2-8419a869aa50",
   "metadata": {},
   "source": [
    "Q.2.8.Sort a list of integers into positive and negative integers lists."
   ]
  },
  {
   "cell_type": "code",
   "execution_count": 8,
   "id": "9b8fa388-a4ca-4f49-acf5-2ab6ccec6e24",
   "metadata": {},
   "outputs": [
    {
     "data": {
      "text/plain": [
       "[-5, -4, -3, -2, -1, 0, 1, 2, 3, 4, 5, 6]"
      ]
     },
     "execution_count": 8,
     "metadata": {},
     "output_type": "execute_result"
    }
   ],
   "source": [
    "l6 = [1,2,3,4,5,6,-1,-2,-3,-4,-5,0]\n",
    "\n",
    "sorted_list = sorted(filter(lambda x : x<0, l6)) + sorted(filter(lambda x : x>=0 , l6)) \n",
    "\n",
    "sorted_list"
   ]
  }
 ],
 "metadata": {
  "kernelspec": {
   "display_name": "Python 3 (ipykernel)",
   "language": "python",
   "name": "python3"
  },
  "language_info": {
   "codemirror_mode": {
    "name": "ipython",
    "version": 3
   },
   "file_extension": ".py",
   "mimetype": "text/x-python",
   "name": "python",
   "nbconvert_exporter": "python",
   "pygments_lexer": "ipython3",
   "version": "3.10.8"
  }
 },
 "nbformat": 4,
 "nbformat_minor": 5
}
